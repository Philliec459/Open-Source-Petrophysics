{
 "cells": [
  {
   "cell_type": "code",
   "execution_count": 1,
   "metadata": {
    "id": "ejOZYi3awy_F"
   },
   "outputs": [],
   "source": [
    "using_colab = True"
   ]
  },
  {
   "cell_type": "code",
   "execution_count": 2,
   "metadata": {
    "colab": {
     "base_uri": "https://localhost:8080/"
    },
    "id": "A7k8xpr7wy_G",
    "outputId": "f4882c74-dc3f-4dae-b2e9-71ca34ff9386"
   },
   "outputs": [],
   "source": [
    "if using_colab:\n",
    "\n",
    "    !wget 'https://github.com/Philliec459/Open-Source-Petrophysics/raw/main/Simple_Petrpphysical_Workflow/HW-10.las'\n",
    "    #https://github.com/Philliec459/Science-and-Technology-Society-Use-of-NASA-STELLA-Q2-Spectrometer/raw/main/STELLA_brief_ver2_backyard_grass_shoreline.ipynb\n",
    "    #https://github.com/Philliec459/Science-and-Technology-Society-Use-of-NASA-STELLA-Q2-Spectrometer/raw/main/data_white_grass_shade_whiteshade.xlsx\n",
    "    #https://github.com/Philliec459/Science-and-Technology-Society-Use-of-NASA-STELLA-Q2-Spectrometer/raw/main/data_white_FullSun.xlsx\n",
    "\n",
    "    !pip install lasio\n"
   ]
  },
  {
   "cell_type": "markdown",
   "metadata": {
    "id": "57XMQvBLwy_G"
   },
   "source": [
    "# Reservoir Characterization Workflow: Read in LAS Well Log Data\n",
    "\n",
    "\n",
    "We have used the new hierarchical carbonate reservoir benchmarking case study created by Costa Gomes J, Geiger S, Arnold D to be used for reservoir characterization, uncertainty quantification and history matching(1)\n",
    "\n",
    "## Explore well log data using Andy McDonalds methods dicussed in his Petrophysical Python Series\n",
    "\n",
    "\n",
    "1.  Costa Gomes J, Geiger S, Arnold D. The Design of an Open-Source Carbonate Reservoir Model. Petroleum Geoscience,\n",
    "    https://doi.org/10.1144/petgeo2021-067\n",
    "\n",
    "\n",
    "\n",
    "---\n",
    "\n",
    "## Python Requirements:"
   ]
  },
  {
   "cell_type": "code",
   "execution_count": 3,
   "metadata": {
    "id": "FJPWgTpOwy_H"
   },
   "outputs": [],
   "source": [
    "import numpy as np\n",
    "import pandas as pd\n",
    "import matplotlib.pyplot as plt\n",
    "import lasio"
   ]
  },
  {
   "cell_type": "markdown",
   "metadata": {
    "id": "C_TRMy8iwy_H"
   },
   "source": [
    "## Uncomment the Costa HW Well that you want to evaluate:"
   ]
  },
  {
   "cell_type": "code",
   "execution_count": 4,
   "metadata": {
    "id": "Yw_M5d39wy_I"
   },
   "outputs": [],
   "source": [
    "#las = lasio.read(\"HW-3.las\");elev_meas_ref = 160\n",
    "#las = lasio.read(\"./data/HW-4.las\");elev_meas_ref = 29\n",
    "#las = lasio.read(\"./data/HW-5.las\");elev_meas_ref = 36\n",
    "#las = lasio.read(\"./data/HW-6.las\");elev_meas_ref = 49\n",
    "#las = lasio.read(\"./data/HW-7.las\");elev_meas_ref = 367\n",
    "#las = lasio.read(\"./data/HW-8.las\");elev_meas_ref = 416\n",
    "#las = lasio.read(\"./data/HW-9.las\");elev_meas_ref = 492\n",
    "las = lasio.read(\"HW-10.las\");elev_meas_ref = 397\n",
    "#las = lasio.read(\"./data/HW-24.las\");elev_meas_ref = 426\n",
    "#las = lasio.read(\"./data/HW-25.las\");elev_meas_ref = 386\n",
    "#las = lasio.read(\"./data/HW-26.las\");elev_meas_ref = 375\n",
    "#las = lasio.read(\"./data/HW-27.las\");elev_meas_ref = 453\n",
    "#las = lasio.read(\"./data/HW-28.las\");elev_meas_ref = 430\n",
    "#las = lasio.read(\"./data/HW-29.las\");elev_meas_ref = 466\n",
    "#las = lasio.read(\"./data/HW-30.las\");elev_meas_ref = 590\n",
    "#las = lasio.read(\"./data/HW-31.las\");elev_meas_ref = 417\n",
    "#las = lasio.read(\"./data/HW-32.las\");elev_meas_ref = 441\n"
   ]
  },
  {
   "cell_type": "markdown",
   "metadata": {
    "id": "Q0VsT7kLwy_I"
   },
   "source": [
    "## Explore LAS data from Lasio:"
   ]
  },
  {
   "cell_type": "code",
   "execution_count": 5,
   "metadata": {
    "colab": {
     "base_uri": "https://localhost:8080/"
    },
    "id": "ZMB9a3M5wy_I",
    "outputId": "c376f2d3-22d8-42d3-d6e6-b50624153c06"
   },
   "outputs": [
    {
     "name": "stdout",
     "output_type": "stream",
     "text": [
      " (STRT): 8150.0\n",
      " (STOP): 8630.0\n",
      " (STEP): 0.5\n",
      " (NULL): -999.25\n",
      "COMPANY (COMP): \n",
      "WELL (WELL): HW-10\n",
      "FIELD (FLD): COSTA\n",
      "LOCATION (LOC): \n",
      "SERVICE COMPANY (SRVC): \n",
      "ss} (DATE): 2018-02-06 14:55:39   : Log Export Date {yyyy-MM-dd HH:mm\n",
      "PROVINCE (PROV): \n",
      "UNIQUE WELL ID (UWI): HW-10\n",
      "API NUMBER (API): \n"
     ]
    }
   ],
   "source": [
    "for item in las.well:\n",
    "    print(f\"{item.descr} ({item.mnemonic}): {item.value}\")"
   ]
  },
  {
   "cell_type": "code",
   "execution_count": 6,
   "metadata": {
    "colab": {
     "base_uri": "https://localhost:8080/"
    },
    "id": "utkiJ3Lfwy_J",
    "outputId": "5baf7bf7-1600-40d9-ec47-86e663f1372a"
   },
   "outputs": [
    {
     "name": "stdout",
     "output_type": "stream",
     "text": [
      "DEPT\n",
      "GR\n",
      "RHOB\n",
      "NPHI\n",
      "DT\n",
      "PHIE\n",
      "RT\n",
      "SW\n",
      "SO\n",
      "CORE_POR\n",
      "CORE_PERM\n"
     ]
    }
   ],
   "source": [
    "for curve in las.curves:\n",
    "    print(curve.mnemonic)"
   ]
  },
  {
   "cell_type": "code",
   "execution_count": 7,
   "metadata": {
    "colab": {
     "base_uri": "https://localhost:8080/"
    },
    "id": "6tFcbnKvwy_J",
    "outputId": "9bedbce7-9e7e-42eb-9ee4-feef9cdb80b0"
   },
   "outputs": [
    {
     "data": {
      "text/plain": [
       "['DEPT',\n",
       " 'GR',\n",
       " 'RHOB',\n",
       " 'NPHI',\n",
       " 'DT',\n",
       " 'PHIE',\n",
       " 'RT',\n",
       " 'SW',\n",
       " 'SO',\n",
       " 'CORE_POR',\n",
       " 'CORE_PERM']"
      ]
     },
     "execution_count": 7,
     "metadata": {},
     "output_type": "execute_result"
    }
   ],
   "source": [
    "las.keys()"
   ]
  },
  {
   "cell_type": "code",
   "execution_count": 8,
   "metadata": {
    "colab": {
     "base_uri": "https://localhost:8080/"
    },
    "id": "GHEIpko2wy_J",
    "outputId": "924a7c1f-3753-49a7-d4c8-47657cebd4e1"
   },
   "outputs": [
    {
     "name": "stdout",
     "output_type": "stream",
     "text": [
      "Curve: DEPT, Units: ft, Description: DEPTH\n",
      "Curve: GR, Units: gAPI, Description: GR\n",
      "Curve: RHOB, Units: g/cm3, Description: RHOB\n",
      "Curve: NPHI, Units: ft3/ft3, Description: NPHI\n",
      "Curve: DT, Units: us/ft, Description: DT\n",
      "Curve: PHIE, Units: ft3/ft3, Description: PHIE\n",
      "Curve: RT, Units: ohm.m, Description: RT\n",
      "Curve: SW, Units: , Description: SW\n",
      "Curve: SO, Units: , Description: SO\n",
      "Curve: CORE_POR, Units: ft3/ft3, Description: CORE_POR\n",
      "Curve: CORE_PERM, Units: mD, Description: CORE_PERM\n",
      "There are a total of: 11 curves present within this file\n"
     ]
    }
   ],
   "source": [
    "for count, curve in enumerate(las.curves):\n",
    "    print(f\"Curve: {curve.mnemonic}, Units: {curve.unit}, Description: {curve.descr}\")\n",
    "print(f\"There are a total of: {count+1} curves present within this file\")"
   ]
  },
  {
   "cell_type": "code",
   "execution_count": 9,
   "metadata": {
    "colab": {
     "base_uri": "https://localhost:8080/",
     "height": 237
    },
    "id": "tXUbUofLwy_K",
    "outputId": "3376be10-3c76-44d0-b92a-6aef316f05e6"
   },
   "outputs": [
    {
     "data": {
      "text/html": [
       "<div>\n",
       "<style scoped>\n",
       "    .dataframe tbody tr th:only-of-type {\n",
       "        vertical-align: middle;\n",
       "    }\n",
       "\n",
       "    .dataframe tbody tr th {\n",
       "        vertical-align: top;\n",
       "    }\n",
       "\n",
       "    .dataframe thead th {\n",
       "        text-align: right;\n",
       "    }\n",
       "</style>\n",
       "<table border=\"1\" class=\"dataframe\">\n",
       "  <thead>\n",
       "    <tr style=\"text-align: right;\">\n",
       "      <th></th>\n",
       "      <th>GR</th>\n",
       "      <th>RHOB</th>\n",
       "      <th>NPHI</th>\n",
       "      <th>DT</th>\n",
       "      <th>PHIE</th>\n",
       "      <th>RT</th>\n",
       "      <th>SW</th>\n",
       "      <th>SO</th>\n",
       "      <th>CORE_POR</th>\n",
       "      <th>CORE_PERM</th>\n",
       "    </tr>\n",
       "    <tr>\n",
       "      <th>DEPT</th>\n",
       "      <th></th>\n",
       "      <th></th>\n",
       "      <th></th>\n",
       "      <th></th>\n",
       "      <th></th>\n",
       "      <th></th>\n",
       "      <th></th>\n",
       "      <th></th>\n",
       "      <th></th>\n",
       "      <th></th>\n",
       "    </tr>\n",
       "  </thead>\n",
       "  <tbody>\n",
       "    <tr>\n",
       "      <th>8440.0</th>\n",
       "      <td>31.66</td>\n",
       "      <td>2.73</td>\n",
       "      <td>0.07</td>\n",
       "      <td>NaN</td>\n",
       "      <td>0.0</td>\n",
       "      <td>17.62</td>\n",
       "      <td>NaN</td>\n",
       "      <td>NaN</td>\n",
       "      <td>NaN</td>\n",
       "      <td>NaN</td>\n",
       "    </tr>\n",
       "    <tr>\n",
       "      <th>8440.5</th>\n",
       "      <td>30.61</td>\n",
       "      <td>2.73</td>\n",
       "      <td>0.06</td>\n",
       "      <td>NaN</td>\n",
       "      <td>0.0</td>\n",
       "      <td>19.01</td>\n",
       "      <td>NaN</td>\n",
       "      <td>NaN</td>\n",
       "      <td>NaN</td>\n",
       "      <td>NaN</td>\n",
       "    </tr>\n",
       "    <tr>\n",
       "      <th>8441.0</th>\n",
       "      <td>29.37</td>\n",
       "      <td>2.72</td>\n",
       "      <td>0.06</td>\n",
       "      <td>NaN</td>\n",
       "      <td>0.0</td>\n",
       "      <td>20.33</td>\n",
       "      <td>NaN</td>\n",
       "      <td>NaN</td>\n",
       "      <td>NaN</td>\n",
       "      <td>NaN</td>\n",
       "    </tr>\n",
       "    <tr>\n",
       "      <th>8441.5</th>\n",
       "      <td>28.05</td>\n",
       "      <td>2.73</td>\n",
       "      <td>0.05</td>\n",
       "      <td>NaN</td>\n",
       "      <td>0.0</td>\n",
       "      <td>21.58</td>\n",
       "      <td>NaN</td>\n",
       "      <td>NaN</td>\n",
       "      <td>NaN</td>\n",
       "      <td>NaN</td>\n",
       "    </tr>\n",
       "    <tr>\n",
       "      <th>8442.0</th>\n",
       "      <td>27.10</td>\n",
       "      <td>2.73</td>\n",
       "      <td>0.05</td>\n",
       "      <td>NaN</td>\n",
       "      <td>0.0</td>\n",
       "      <td>22.79</td>\n",
       "      <td>NaN</td>\n",
       "      <td>NaN</td>\n",
       "      <td>NaN</td>\n",
       "      <td>NaN</td>\n",
       "    </tr>\n",
       "  </tbody>\n",
       "</table>\n",
       "</div>"
      ],
      "text/plain": [
       "           GR  RHOB  NPHI  DT  PHIE     RT  SW  SO  CORE_POR  CORE_PERM\n",
       "DEPT                                                                   \n",
       "8440.0  31.66  2.73  0.07 NaN   0.0  17.62 NaN NaN       NaN        NaN\n",
       "8440.5  30.61  2.73  0.06 NaN   0.0  19.01 NaN NaN       NaN        NaN\n",
       "8441.0  29.37  2.72  0.06 NaN   0.0  20.33 NaN NaN       NaN        NaN\n",
       "8441.5  28.05  2.73  0.05 NaN   0.0  21.58 NaN NaN       NaN        NaN\n",
       "8442.0  27.10  2.73  0.05 NaN   0.0  22.79 NaN NaN       NaN        NaN"
      ]
     },
     "execution_count": 9,
     "metadata": {},
     "output_type": "execute_result"
    }
   ],
   "source": [
    "df_log = las.df()\n",
    "\n",
    "df_log.head()"
   ]
  },
  {
   "cell_type": "code",
   "execution_count": 10,
   "metadata": {
    "colab": {
     "base_uri": "https://localhost:8080/",
     "height": 300
    },
    "id": "x_IChG2rwy_K",
    "outputId": "ba484de7-b0e6-49e7-ba27-0a02f622b727"
   },
   "outputs": [
    {
     "data": {
      "text/html": [
       "<div>\n",
       "<style scoped>\n",
       "    .dataframe tbody tr th:only-of-type {\n",
       "        vertical-align: middle;\n",
       "    }\n",
       "\n",
       "    .dataframe tbody tr th {\n",
       "        vertical-align: top;\n",
       "    }\n",
       "\n",
       "    .dataframe thead th {\n",
       "        text-align: right;\n",
       "    }\n",
       "</style>\n",
       "<table border=\"1\" class=\"dataframe\">\n",
       "  <thead>\n",
       "    <tr style=\"text-align: right;\">\n",
       "      <th></th>\n",
       "      <th>GR</th>\n",
       "      <th>RHOB</th>\n",
       "      <th>NPHI</th>\n",
       "      <th>DT</th>\n",
       "      <th>PHIE</th>\n",
       "      <th>RT</th>\n",
       "      <th>SW</th>\n",
       "      <th>SO</th>\n",
       "      <th>CORE_POR</th>\n",
       "      <th>CORE_PERM</th>\n",
       "    </tr>\n",
       "  </thead>\n",
       "  <tbody>\n",
       "    <tr>\n",
       "      <th>count</th>\n",
       "      <td>381.000000</td>\n",
       "      <td>381.000000</td>\n",
       "      <td>381.000000</td>\n",
       "      <td>0.0</td>\n",
       "      <td>381.000000</td>\n",
       "      <td>381.000000</td>\n",
       "      <td>160.000000</td>\n",
       "      <td>160.000000</td>\n",
       "      <td>311.000000</td>\n",
       "      <td>311.000000</td>\n",
       "    </tr>\n",
       "    <tr>\n",
       "      <th>mean</th>\n",
       "      <td>12.346719</td>\n",
       "      <td>2.410236</td>\n",
       "      <td>0.187402</td>\n",
       "      <td>NaN</td>\n",
       "      <td>0.182047</td>\n",
       "      <td>4.944278</td>\n",
       "      <td>0.669063</td>\n",
       "      <td>0.330937</td>\n",
       "      <td>23.070740</td>\n",
       "      <td>12.134534</td>\n",
       "    </tr>\n",
       "    <tr>\n",
       "      <th>std</th>\n",
       "      <td>6.704469</td>\n",
       "      <td>0.165094</td>\n",
       "      <td>0.079996</td>\n",
       "      <td>NaN</td>\n",
       "      <td>0.092130</td>\n",
       "      <td>9.043167</td>\n",
       "      <td>0.161995</td>\n",
       "      <td>0.161995</td>\n",
       "      <td>4.518222</td>\n",
       "      <td>33.281485</td>\n",
       "    </tr>\n",
       "    <tr>\n",
       "      <th>min</th>\n",
       "      <td>5.370000</td>\n",
       "      <td>2.250000</td>\n",
       "      <td>0.020000</td>\n",
       "      <td>NaN</td>\n",
       "      <td>0.000000</td>\n",
       "      <td>0.220000</td>\n",
       "      <td>0.380000</td>\n",
       "      <td>0.000000</td>\n",
       "      <td>8.710000</td>\n",
       "      <td>0.040000</td>\n",
       "    </tr>\n",
       "    <tr>\n",
       "      <th>25%</th>\n",
       "      <td>8.610000</td>\n",
       "      <td>2.290000</td>\n",
       "      <td>0.150000</td>\n",
       "      <td>NaN</td>\n",
       "      <td>0.140000</td>\n",
       "      <td>0.440000</td>\n",
       "      <td>0.540000</td>\n",
       "      <td>0.200000</td>\n",
       "      <td>21.075000</td>\n",
       "      <td>1.365000</td>\n",
       "    </tr>\n",
       "    <tr>\n",
       "      <th>50%</th>\n",
       "      <td>9.390000</td>\n",
       "      <td>2.330000</td>\n",
       "      <td>0.230000</td>\n",
       "      <td>NaN</td>\n",
       "      <td>0.230000</td>\n",
       "      <td>1.030000</td>\n",
       "      <td>0.670000</td>\n",
       "      <td>0.330000</td>\n",
       "      <td>24.830000</td>\n",
       "      <td>2.770000</td>\n",
       "    </tr>\n",
       "    <tr>\n",
       "      <th>75%</th>\n",
       "      <td>11.980000</td>\n",
       "      <td>2.480000</td>\n",
       "      <td>0.250000</td>\n",
       "      <td>NaN</td>\n",
       "      <td>0.250000</td>\n",
       "      <td>2.670000</td>\n",
       "      <td>0.800000</td>\n",
       "      <td>0.460000</td>\n",
       "      <td>26.325000</td>\n",
       "      <td>5.950000</td>\n",
       "    </tr>\n",
       "    <tr>\n",
       "      <th>max</th>\n",
       "      <td>33.940000</td>\n",
       "      <td>2.750000</td>\n",
       "      <td>0.270000</td>\n",
       "      <td>NaN</td>\n",
       "      <td>0.270000</td>\n",
       "      <td>38.180000</td>\n",
       "      <td>1.000000</td>\n",
       "      <td>0.620000</td>\n",
       "      <td>31.800000</td>\n",
       "      <td>345.340000</td>\n",
       "    </tr>\n",
       "  </tbody>\n",
       "</table>\n",
       "</div>"
      ],
      "text/plain": [
       "               GR        RHOB        NPHI   DT        PHIE          RT  \\\n",
       "count  381.000000  381.000000  381.000000  0.0  381.000000  381.000000   \n",
       "mean    12.346719    2.410236    0.187402  NaN    0.182047    4.944278   \n",
       "std      6.704469    0.165094    0.079996  NaN    0.092130    9.043167   \n",
       "min      5.370000    2.250000    0.020000  NaN    0.000000    0.220000   \n",
       "25%      8.610000    2.290000    0.150000  NaN    0.140000    0.440000   \n",
       "50%      9.390000    2.330000    0.230000  NaN    0.230000    1.030000   \n",
       "75%     11.980000    2.480000    0.250000  NaN    0.250000    2.670000   \n",
       "max     33.940000    2.750000    0.270000  NaN    0.270000   38.180000   \n",
       "\n",
       "               SW          SO    CORE_POR   CORE_PERM  \n",
       "count  160.000000  160.000000  311.000000  311.000000  \n",
       "mean     0.669063    0.330937   23.070740   12.134534  \n",
       "std      0.161995    0.161995    4.518222   33.281485  \n",
       "min      0.380000    0.000000    8.710000    0.040000  \n",
       "25%      0.540000    0.200000   21.075000    1.365000  \n",
       "50%      0.670000    0.330000   24.830000    2.770000  \n",
       "75%      0.800000    0.460000   26.325000    5.950000  \n",
       "max      1.000000    0.620000   31.800000  345.340000  "
      ]
     },
     "execution_count": 10,
     "metadata": {},
     "output_type": "execute_result"
    }
   ],
   "source": [
    "df_log.describe()"
   ]
  },
  {
   "cell_type": "markdown",
   "metadata": {
    "id": "4-VmvciNwy_K"
   },
   "source": [
    "# Visualising Data Extent (from Andy McDonald):\n",
    "\n",
    "Instead of the summary provided by the pandas describe() function, we can create a visualisation using matplotlib. Firstly, we need to work out where we have nulls (nan values). We can do this by creating a second dataframe and calling .notnull() on our well dataframe.  \n",
    "  \n",
    "As this returns a boolean (True or False) for each depth, we need to multiply by 1 to convert the values from True and False to 1 and 0 respectively."
   ]
  },
  {
   "cell_type": "code",
   "execution_count": 11,
   "metadata": {
    "id": "lD0RdpPdwy_K"
   },
   "outputs": [],
   "source": [
    "well_nan = df_log.notnull() * 1"
   ]
  },
  {
   "cell_type": "code",
   "execution_count": 12,
   "metadata": {
    "colab": {
     "base_uri": "https://localhost:8080/",
     "height": 237
    },
    "id": "2V2HfanDwy_K",
    "outputId": "3dba148e-b1c6-400f-aa6d-1499da783bb7"
   },
   "outputs": [
    {
     "data": {
      "text/html": [
       "<div>\n",
       "<style scoped>\n",
       "    .dataframe tbody tr th:only-of-type {\n",
       "        vertical-align: middle;\n",
       "    }\n",
       "\n",
       "    .dataframe tbody tr th {\n",
       "        vertical-align: top;\n",
       "    }\n",
       "\n",
       "    .dataframe thead th {\n",
       "        text-align: right;\n",
       "    }\n",
       "</style>\n",
       "<table border=\"1\" class=\"dataframe\">\n",
       "  <thead>\n",
       "    <tr style=\"text-align: right;\">\n",
       "      <th></th>\n",
       "      <th>GR</th>\n",
       "      <th>RHOB</th>\n",
       "      <th>NPHI</th>\n",
       "      <th>DT</th>\n",
       "      <th>PHIE</th>\n",
       "      <th>RT</th>\n",
       "      <th>SW</th>\n",
       "      <th>SO</th>\n",
       "      <th>CORE_POR</th>\n",
       "      <th>CORE_PERM</th>\n",
       "    </tr>\n",
       "    <tr>\n",
       "      <th>DEPT</th>\n",
       "      <th></th>\n",
       "      <th></th>\n",
       "      <th></th>\n",
       "      <th></th>\n",
       "      <th></th>\n",
       "      <th></th>\n",
       "      <th></th>\n",
       "      <th></th>\n",
       "      <th></th>\n",
       "      <th></th>\n",
       "    </tr>\n",
       "  </thead>\n",
       "  <tbody>\n",
       "    <tr>\n",
       "      <th>8440.0</th>\n",
       "      <td>1</td>\n",
       "      <td>1</td>\n",
       "      <td>1</td>\n",
       "      <td>0</td>\n",
       "      <td>1</td>\n",
       "      <td>1</td>\n",
       "      <td>0</td>\n",
       "      <td>0</td>\n",
       "      <td>0</td>\n",
       "      <td>0</td>\n",
       "    </tr>\n",
       "    <tr>\n",
       "      <th>8440.5</th>\n",
       "      <td>1</td>\n",
       "      <td>1</td>\n",
       "      <td>1</td>\n",
       "      <td>0</td>\n",
       "      <td>1</td>\n",
       "      <td>1</td>\n",
       "      <td>0</td>\n",
       "      <td>0</td>\n",
       "      <td>0</td>\n",
       "      <td>0</td>\n",
       "    </tr>\n",
       "    <tr>\n",
       "      <th>8441.0</th>\n",
       "      <td>1</td>\n",
       "      <td>1</td>\n",
       "      <td>1</td>\n",
       "      <td>0</td>\n",
       "      <td>1</td>\n",
       "      <td>1</td>\n",
       "      <td>0</td>\n",
       "      <td>0</td>\n",
       "      <td>0</td>\n",
       "      <td>0</td>\n",
       "    </tr>\n",
       "    <tr>\n",
       "      <th>8441.5</th>\n",
       "      <td>1</td>\n",
       "      <td>1</td>\n",
       "      <td>1</td>\n",
       "      <td>0</td>\n",
       "      <td>1</td>\n",
       "      <td>1</td>\n",
       "      <td>0</td>\n",
       "      <td>0</td>\n",
       "      <td>0</td>\n",
       "      <td>0</td>\n",
       "    </tr>\n",
       "    <tr>\n",
       "      <th>8442.0</th>\n",
       "      <td>1</td>\n",
       "      <td>1</td>\n",
       "      <td>1</td>\n",
       "      <td>0</td>\n",
       "      <td>1</td>\n",
       "      <td>1</td>\n",
       "      <td>0</td>\n",
       "      <td>0</td>\n",
       "      <td>0</td>\n",
       "      <td>0</td>\n",
       "    </tr>\n",
       "  </tbody>\n",
       "</table>\n",
       "</div>"
      ],
      "text/plain": [
       "        GR  RHOB  NPHI  DT  PHIE  RT  SW  SO  CORE_POR  CORE_PERM\n",
       "DEPT                                                             \n",
       "8440.0   1     1     1   0     1   1   0   0         0          0\n",
       "8440.5   1     1     1   0     1   1   0   0         0          0\n",
       "8441.0   1     1     1   0     1   1   0   0         0          0\n",
       "8441.5   1     1     1   0     1   1   0   0         0          0\n",
       "8442.0   1     1     1   0     1   1   0   0         0          0"
      ]
     },
     "execution_count": 12,
     "metadata": {},
     "output_type": "execute_result"
    }
   ],
   "source": [
    "well_nan.head()"
   ]
  },
  {
   "cell_type": "code",
   "execution_count": 13,
   "metadata": {
    "colab": {
     "base_uri": "https://localhost:8080/",
     "height": 1000
    },
    "id": "iRbS_nw5wy_L",
    "outputId": "b25788bb-6021-415a-d8dd-d3bfcb028fab"
   },
   "outputs": [
    {
     "name": "stderr",
     "output_type": "stream",
     "text": [
      "/var/folders/lf/9hqr0q153ls52s9btzjc56080000gp/T/ipykernel_81613/1491711593.py:4: MatplotlibDeprecationWarning: Auto-removal of overlapping axes is deprecated since 3.6 and will be removed two minor releases later; explicitly call ax.remove() as needed.\n",
      "  ax1 = plt.subplot2grid((1,10) , (0,0), rowspan=1, colspan = 1)\n"
     ]
    },
    {
     "data": {
      "image/png": "[encoded data removed]",
      "text/plain": [
       "<Figure size 1000x1200 with 10 Axes>"
      ]
     },
     "metadata": {},
     "output_type": "display_data"
    }
   ],
   "source": [
    "fig = plt.subplots(figsize=(10,12))\n",
    "\n",
    "#Set up the plot axes\n",
    "ax1 = plt.subplot2grid((1,10) , (0,0), rowspan=1, colspan = 1)\n",
    "ax2 = plt.subplot2grid((1,10) , (0,1), rowspan=1, colspan = 1)\n",
    "ax3 = plt.subplot2grid((1,10) , (0,2), rowspan=1, colspan = 1)\n",
    "ax4 = plt.subplot2grid((1,10) , (0,3), rowspan=1, colspan = 1)\n",
    "ax5 = plt.subplot2grid((1,10) , (0,4), rowspan=1, colspan = 1)\n",
    "ax6 = plt.subplot2grid((1,10) , (0,5), rowspan=1, colspan = 1)\n",
    "ax7 = plt.subplot2grid((1,10) , (0,6), rowspan=1, colspan = 1)\n",
    "ax8 = plt.subplot2grid((1,10) , (0,7), rowspan=1, colspan = 1)\n",
    "ax9 = plt.subplot2grid((1,10) , (0,8), rowspan=1, colspan = 1)\n",
    "ax10 = plt.subplot2grid((1,10), (0,9), rowspan=1, colspan = 1)\n",
    "\n",
    "\n",
    "\n",
    "columns = well_nan.columns\n",
    "axes = [ax1, ax2, ax3, ax4, ax5, ax6, ax7, ax8, ax9, ax10]\n",
    "\n",
    "for i, ax in enumerate(axes):\n",
    "    ax.plot(well_nan.iloc[:,i], well_nan.index, lw=0)\n",
    "    #ax.set_ylim(3000, 0)\n",
    "    ax.set_ylim(max(las[\"DEPT\"]),min(las[\"DEPT\"]))\n",
    "    ax.set_xlim(0, 1)\n",
    "    ax.set_title(columns[i])\n",
    "    ax.set_facecolor('whitesmoke')\n",
    "    ax.fill_betweenx(well_nan.index, 0, well_nan.iloc[:,i], facecolor='red')\n",
    "    # Remove tick labels from each subplot\n",
    "    if i > 0:\n",
    "        plt.setp(ax.get_yticklabels(), visible = False)\n",
    "    plt.setp(ax.get_xticklabels(), visible = False)\n",
    "\n",
    "ax1.set_ylabel('Depth', fontsize=14)\n",
    "\n",
    "plt.subplots_adjust(wspace=0)\n",
    "plt.show()"
   ]
  },
  {
   "cell_type": "code",
   "execution_count": null,
   "metadata": {
    "id": "4T2EHZdiwy_L"
   },
   "outputs": [],
   "source": []
  },
  {
   "cell_type": "code",
   "execution_count": null,
   "metadata": {
    "id": "irRKLhTewy_L"
   },
   "outputs": [],
   "source": []
  }
 ],
 "metadata": {
  "accelerator": "GPU",
  "colab": {
   "gpuType": "T4",
   "include_colab_link": true,
   "provenance": []
  },
  "kernelspec": {
   "display_name": "Python 3 (ipykernel)",
   "language": "python",
   "name": "python3"
  },
  "language_info": {
   "codemirror_mode": {
    "name": "ipython",
    "version": 3
   },
   "file_extension": ".py",
   "mimetype": "text/x-python",
   "name": "python",
   "nbconvert_exporter": "python",
   "pygments_lexer": "ipython3",
   "version": "3.11.6"
  }
 },
 "nbformat": 4,
 "nbformat_minor": 4
}
